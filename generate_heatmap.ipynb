{
 "cells": [
  {
   "cell_type": "code",
   "execution_count": 1,
   "metadata": {},
   "outputs": [],
   "source": [
    "import os\n",
    "os.environ[\"PROJ_LIB\"] = os.path.join(os.environ[\"CONDA_PREFIX\"], \"share\", \"proj\")\n",
    "import pandas as pd\n",
    "from bs4 import BeautifulSoup as soup\n",
    "import cfscrape\n",
    "import json\n",
    "import csv\n",
    "import networkx as nx\n",
    "import datetime\n",
    "import glob\n",
    "import network_visualizer\n",
    "from datetime import datetime, timedelta\n",
    "import time\n",
    "import numpy as np"
   ]
  },
  {
   "cell_type": "code",
   "execution_count": 2,
   "metadata": {},
   "outputs": [],
   "source": [
    "from folium import Map\n",
    "from folium.plugins import HeatMap"
   ]
  },
  {
   "cell_type": "code",
   "execution_count": 3,
   "metadata": {},
   "outputs": [],
   "source": [
    "airports_df = pd.read_csv('airports_data/flight_radar_24_airports.csv', sep=',')\n",
    "\n",
    "european_airports_df = pd.read_csv('airports_data/european_airports.csv', sep=',')\n",
    "\n",
    "delays_df = pd.read_csv('delays/departure_arival_delays21_Jul_2020.csv', sep=',')"
   ]
  },
  {
   "cell_type": "code",
   "execution_count": 4,
   "metadata": {},
   "outputs": [],
   "source": [
    "european_airport_codes_list = european_airports_df['IATA'].tolist()"
   ]
  },
  {
   "cell_type": "code",
   "execution_count": null,
   "metadata": {},
   "outputs": [],
   "source": [
    "airports_df"
   ]
  },
  {
   "cell_type": "code",
   "execution_count": null,
   "metadata": {},
   "outputs": [],
   "source": [
    "delays_df"
   ]
  },
  {
   "cell_type": "code",
   "execution_count": null,
   "metadata": {},
   "outputs": [],
   "source": [
    "departures_delays_list = []\n",
    "arrivals_delays_list = []\n",
    "\n",
    "airports_dict = {}\n",
    "for index, row in airports_df.iterrows():\n",
    "    airports_dict[row['Label']] = (row['latitude'], row['longitude'])"
   ]
  },
  {
   "cell_type": "code",
   "execution_count": null,
   "metadata": {},
   "outputs": [],
   "source": [
    "airports_dict"
   ]
  },
  {
   "cell_type": "code",
   "execution_count": null,
   "metadata": {},
   "outputs": [],
   "source": [
    "for index, row in delays_df.iterrows():\n",
    "    if row['departure_delay_list']:\n",
    "        if (row['from_airports_list'] in airports_dict.keys()) and (row['from_airports_list'] in european_airport_codes_list):\n",
    "            lat, longt = airports_dict[row['from_airports_list']]\n",
    "            departures_delays_list.append((lat, longt, abs(float(row['departure_delay_time_list']))))\n",
    "\n",
    "    if row['arrival_delay_list']:\n",
    "        if (row['to_airports_list'] in airports_dict.keys()) and (row['to_airports_list'] in european_airport_codes_list):\n",
    "            lat, longt = airports_dict[row['to_airports_list']]\n",
    "            arrivals_delays_list.append((lat, longt, abs(float(row['arrival_delay_time_list']))))"
   ]
  },
  {
   "cell_type": "code",
   "execution_count": null,
   "metadata": {},
   "outputs": [],
   "source": [
    "departures__map = Map(location=[48.499998, 23.3833318], zoom_start=4, )"
   ]
  },
  {
   "cell_type": "code",
   "execution_count": null,
   "metadata": {},
   "outputs": [],
   "source": [
    "departures_layer = HeatMap(departures_delays_list,\n",
    "                  min_opacity=0.9,\n",
    "                  radius=17, \n",
    "                  blur=25, \n",
    "                  max_zoom=5,\n",
    ")"
   ]
  },
  {
   "cell_type": "code",
   "execution_count": null,
   "metadata": {},
   "outputs": [],
   "source": [
    "departures__map.add_child(departures_layer)"
   ]
  },
  {
   "cell_type": "code",
   "execution_count": null,
   "metadata": {},
   "outputs": [],
   "source": [
    "arrivals__map = Map(location=[48.499998, 23.3833318], zoom_start=4, )"
   ]
  },
  {
   "cell_type": "code",
   "execution_count": null,
   "metadata": {},
   "outputs": [],
   "source": [
    "arrivals_layer = HeatMap(arrivals_delays_list,\n",
    "                  min_opacity=0.2,\n",
    "                  radius=17, \n",
    "                  blur=15, \n",
    "                  max_zoom=1,\n",
    ")"
   ]
  },
  {
   "cell_type": "code",
   "execution_count": null,
   "metadata": {},
   "outputs": [],
   "source": [
    "arrivals__map.add_child(departures_layer)"
   ]
  },
  {
   "cell_type": "code",
   "execution_count": null,
   "metadata": {},
   "outputs": [],
   "source": []
  },
  {
   "cell_type": "code",
   "execution_count": null,
   "metadata": {},
   "outputs": [],
   "source": [
    "#just calculate the average departure and arrival delay of every airport and then create the heatmaps again"
   ]
  },
  {
   "cell_type": "code",
   "execution_count": null,
   "metadata": {},
   "outputs": [],
   "source": [
    "average_departure_delay_per_airport = {}\n",
    "average_arrival_delay_per_airport = {}"
   ]
  },
  {
   "cell_type": "code",
   "execution_count": null,
   "metadata": {},
   "outputs": [],
   "source": [
    "# for every airport gather all the departure and arrival delays\n",
    "for index, row in delays_df.iterrows():\n",
    "    if row['departure_delay_list']:\n",
    "        if row['from_airports_list'] in airports_dict.keys() and row['from_airports_list'] in european_airport_codes_list:\n",
    "            if row['from_airports_list'] not in average_departure_delay_per_airport.keys():\n",
    "                average_departure_delay_per_airport[row['from_airports_list']] = []\n",
    "            average_departure_delay_per_airport[row['from_airports_list']].append(abs(float(row['departure_delay_time_list'])))\n",
    "    if row['arrival_delay_list']:\n",
    "        if row['to_airports_list'] in airports_dict.keys() and row['to_airports_list'] in european_airport_codes_list:\n",
    "            if row['to_airports_list'] not in average_arrival_delay_per_airport.keys():\n",
    "                average_arrival_delay_per_airport[row['to_airports_list']] = []\n",
    "            average_arrival_delay_per_airport[row['to_airports_list']].append(abs(float(row['arrival_delay_time_list'])))"
   ]
  },
  {
   "cell_type": "code",
   "execution_count": null,
   "metadata": {},
   "outputs": [],
   "source": [
    "average_departures_delays_per_coordinates = []\n",
    "for key, delays_list in average_departure_delay_per_airport.items():\n",
    "    if key in airports_dict.keys():\n",
    "        lat, longt = airports_dict[key]\n",
    "        average_departures_delays_per_coordinates.append((lat, longt, np.mean(delays_list)))"
   ]
  },
  {
   "cell_type": "code",
   "execution_count": null,
   "metadata": {},
   "outputs": [],
   "source": [
    "average_arrivals_delays_per_coordinates = []\n",
    "for key, delays_list in average_arrival_delay_per_airport.items():\n",
    "    if key in airports_dict.keys():\n",
    "        lat, longt = airports_dict[key]\n",
    "        average_arrivals_delays_per_coordinates.append((lat, longt, np.mean(delays_list)))"
   ]
  },
  {
   "cell_type": "code",
   "execution_count": null,
   "metadata": {},
   "outputs": [],
   "source": [
    "len(average_departures_delays_per_coordinates)"
   ]
  },
  {
   "cell_type": "code",
   "execution_count": null,
   "metadata": {},
   "outputs": [],
   "source": [
    "average_departures_delays_per_coordinates"
   ]
  },
  {
   "cell_type": "code",
   "execution_count": null,
   "metadata": {},
   "outputs": [],
   "source": [
    "max([i[2] for i in average_departures_delays_per_coordinates])"
   ]
  },
  {
   "cell_type": "code",
   "execution_count": null,
   "metadata": {},
   "outputs": [],
   "source": [
    "from matplotlib import pyplot as plt"
   ]
  },
  {
   "cell_type": "code",
   "execution_count": null,
   "metadata": {},
   "outputs": [],
   "source": [
    "plt.hist([i[2] for i in average_departures_delays_per_coordinates], 5)"
   ]
  },
  {
   "cell_type": "code",
   "execution_count": null,
   "metadata": {},
   "outputs": [],
   "source": [
    "average_departures__map = Map(location=[48.499998, 23.3833318], zoom_start=4, )\n",
    "\n",
    "average_departures_layer = HeatMap(average_departures_delays_per_coordinates,\n",
    "                  max_val=max([i[2] for i in average_departures_delays_per_coordinates]),\n",
    "                  min_opacity=0.2,\n",
    "                  radius=20, \n",
    "                  blur=1, \n",
    "                  max_zoom=1,\n",
    ")"
   ]
  },
  {
   "cell_type": "code",
   "execution_count": null,
   "metadata": {},
   "outputs": [],
   "source": [
    "average_departures__map.add_child(average_departures_layer)"
   ]
  },
  {
   "cell_type": "code",
   "execution_count": null,
   "metadata": {},
   "outputs": [],
   "source": [
    "plt.hist([i[2] for i in average_arrivals_delays_per_coordinates], 5)"
   ]
  },
  {
   "cell_type": "code",
   "execution_count": null,
   "metadata": {},
   "outputs": [],
   "source": [
    "average_arrivals__map = Map(location=[48.499998, 23.3833318], zoom_start=4, )\n",
    "\n",
    "average_arrivals_layer = HeatMap(average_arrivals_delays_per_coordinates,\n",
    "                  max_val=max([i[2] for i in average_arrivals_delays_per_coordinates]),\n",
    "                  min_opacity=0.2,\n",
    "                  radius=20, \n",
    "                  blur=1, \n",
    "                  max_zoom=1,\n",
    ")"
   ]
  },
  {
   "cell_type": "code",
   "execution_count": null,
   "metadata": {},
   "outputs": [],
   "source": [
    "average_arrivals__map.add_child(average_arrivals_layer)"
   ]
  },
  {
   "cell_type": "code",
   "execution_count": null,
   "metadata": {},
   "outputs": [],
   "source": []
  },
  {
   "cell_type": "code",
   "execution_count": 5,
   "metadata": {},
   "outputs": [],
   "source": [
    "canceled_flights_df = pd.read_csv('canceled_flights/canceled_flights_on_24_Jul_2020.csv', sep=',')"
   ]
  },
  {
   "cell_type": "code",
   "execution_count": 6,
   "metadata": {},
   "outputs": [
    {
     "data": {
      "text/html": [
       "<div>\n",
       "<style scoped>\n",
       "    .dataframe tbody tr th:only-of-type {\n",
       "        vertical-align: middle;\n",
       "    }\n",
       "\n",
       "    .dataframe tbody tr th {\n",
       "        vertical-align: top;\n",
       "    }\n",
       "\n",
       "    .dataframe thead th {\n",
       "        text-align: right;\n",
       "    }\n",
       "</style>\n",
       "<table border=\"1\" class=\"dataframe\">\n",
       "  <thead>\n",
       "    <tr style=\"text-align: right;\">\n",
       "      <th></th>\n",
       "      <th>Unnamed: 0</th>\n",
       "      <th>canceled_departure_list</th>\n",
       "      <th>canceled_arrival_list</th>\n",
       "      <th>canceled_flight_codes_list</th>\n",
       "    </tr>\n",
       "  </thead>\n",
       "  <tbody>\n",
       "    <tr>\n",
       "      <th>0</th>\n",
       "      <td>0</td>\n",
       "      <td>EVN</td>\n",
       "      <td>SHJ</td>\n",
       "      <td>G9244</td>\n",
       "    </tr>\n",
       "    <tr>\n",
       "      <th>1</th>\n",
       "      <td>1</td>\n",
       "      <td>SHJ</td>\n",
       "      <td>EVN</td>\n",
       "      <td>G9245</td>\n",
       "    </tr>\n",
       "    <tr>\n",
       "      <th>2</th>\n",
       "      <td>2</td>\n",
       "      <td>VIE</td>\n",
       "      <td>SOF</td>\n",
       "      <td>FB410</td>\n",
       "    </tr>\n",
       "    <tr>\n",
       "      <th>3</th>\n",
       "      <td>3</td>\n",
       "      <td>SOF</td>\n",
       "      <td>VIE</td>\n",
       "      <td>FB409</td>\n",
       "    </tr>\n",
       "    <tr>\n",
       "      <th>4</th>\n",
       "      <td>4</td>\n",
       "      <td>VIE</td>\n",
       "      <td>SHJ</td>\n",
       "      <td>G9574</td>\n",
       "    </tr>\n",
       "    <tr>\n",
       "      <th>...</th>\n",
       "      <td>...</td>\n",
       "      <td>...</td>\n",
       "      <td>...</td>\n",
       "      <td>...</td>\n",
       "    </tr>\n",
       "    <tr>\n",
       "      <th>178</th>\n",
       "      <td>178</td>\n",
       "      <td>DUB</td>\n",
       "      <td>LHR</td>\n",
       "      <td>EI168</td>\n",
       "    </tr>\n",
       "    <tr>\n",
       "      <th>179</th>\n",
       "      <td>179</td>\n",
       "      <td>LHR</td>\n",
       "      <td>HND</td>\n",
       "      <td>BA5</td>\n",
       "    </tr>\n",
       "    <tr>\n",
       "      <th>180</th>\n",
       "      <td>180</td>\n",
       "      <td>LHR</td>\n",
       "      <td>HND</td>\n",
       "      <td>JL42</td>\n",
       "    </tr>\n",
       "    <tr>\n",
       "      <th>181</th>\n",
       "      <td>181</td>\n",
       "      <td>HND</td>\n",
       "      <td>LHR</td>\n",
       "      <td>JL41</td>\n",
       "    </tr>\n",
       "    <tr>\n",
       "      <th>182</th>\n",
       "      <td>182</td>\n",
       "      <td>LHR</td>\n",
       "      <td>SFO</td>\n",
       "      <td>BA287</td>\n",
       "    </tr>\n",
       "  </tbody>\n",
       "</table>\n",
       "<p>183 rows × 4 columns</p>\n",
       "</div>"
      ],
      "text/plain": [
       "     Unnamed: 0 canceled_departure_list canceled_arrival_list  \\\n",
       "0             0                     EVN                   SHJ   \n",
       "1             1                     SHJ                   EVN   \n",
       "2             2                     VIE                   SOF   \n",
       "3             3                     SOF                   VIE   \n",
       "4             4                     VIE                   SHJ   \n",
       "..          ...                     ...                   ...   \n",
       "178         178                     DUB                   LHR   \n",
       "179         179                     LHR                   HND   \n",
       "180         180                     LHR                   HND   \n",
       "181         181                     HND                   LHR   \n",
       "182         182                     LHR                   SFO   \n",
       "\n",
       "    canceled_flight_codes_list  \n",
       "0                        G9244  \n",
       "1                        G9245  \n",
       "2                        FB410  \n",
       "3                        FB409  \n",
       "4                        G9574  \n",
       "..                         ...  \n",
       "178                      EI168  \n",
       "179                        BA5  \n",
       "180                       JL42  \n",
       "181                       JL41  \n",
       "182                      BA287  \n",
       "\n",
       "[183 rows x 4 columns]"
      ]
     },
     "execution_count": 6,
     "metadata": {},
     "output_type": "execute_result"
    }
   ],
   "source": [
    "canceled_flights_df"
   ]
  },
  {
   "cell_type": "code",
   "execution_count": 14,
   "metadata": {},
   "outputs": [],
   "source": [
    "average_canceled_flight = {}"
   ]
  },
  {
   "cell_type": "code",
   "execution_count": 15,
   "metadata": {},
   "outputs": [],
   "source": [
    "airports_dict = {}\n",
    "for index, row in airports_df.iterrows():\n",
    "    airports_dict[row['Label']] = (row['latitude'], row['longitude'])"
   ]
  },
  {
   "cell_type": "code",
   "execution_count": 16,
   "metadata": {},
   "outputs": [],
   "source": [
    "# for every airport gather all the departure and arrival delays\n",
    "for index, row in canceled_flights_df.iterrows():\n",
    "    if row['canceled_departure_list'] in airports_dict.keys() and row['canceled_departure_list'] in european_airport_codes_list:\n",
    "        if row['canceled_departure_list'] not in average_canceled_flight.keys():\n",
    "            average_canceled_flight[row['canceled_departure_list']] = 0\n",
    "        average_canceled_flight[row['canceled_departure_list']] += 1"
   ]
  },
  {
   "cell_type": "code",
   "execution_count": 17,
   "metadata": {},
   "outputs": [
    {
     "data": {
      "text/plain": [
       "{'EVN': 1,\n",
       " 'VIE': 3,\n",
       " 'SOF': 4,\n",
       " 'GYD': 3,\n",
       " 'BRU': 1,\n",
       " 'SJJ': 2,\n",
       " 'DBV': 2,\n",
       " 'MUC': 2,\n",
       " 'ZAG': 2,\n",
       " 'LCA': 1,\n",
       " 'CPH': 6,\n",
       " 'MRS': 1,\n",
       " 'MPL': 1,\n",
       " 'NTE': 1,\n",
       " 'CDG': 10,\n",
       " 'DUB': 4,\n",
       " 'TBS': 4,\n",
       " 'WAW': 2,\n",
       " 'CGN': 2,\n",
       " 'HAM': 6,\n",
       " 'FRA': 3,\n",
       " 'FDH': 1,\n",
       " 'HHN': 2,\n",
       " 'KIV': 2,\n",
       " 'MXP': 2,\n",
       " 'BUD': 2,\n",
       " 'ALA': 2,\n",
       " 'ZRH': 2,\n",
       " 'AMS': 10,\n",
       " 'SVO': 4,\n",
       " 'LIS': 2,\n",
       " 'GVA': 3,\n",
       " 'DME': 4,\n",
       " 'LED': 1,\n",
       " 'ARN': 1,\n",
       " 'IST': 10,\n",
       " 'SAW': 2,\n",
       " 'TZX': 3,\n",
       " 'KBP': 1,\n",
       " 'LHR': 3}"
      ]
     },
     "execution_count": 17,
     "metadata": {},
     "output_type": "execute_result"
    }
   ],
   "source": [
    "average_canceled_flight"
   ]
  },
  {
   "cell_type": "code",
   "execution_count": null,
   "metadata": {},
   "outputs": [],
   "source": []
  },
  {
   "cell_type": "code",
   "execution_count": null,
   "metadata": {},
   "outputs": [],
   "source": []
  }
 ],
 "metadata": {
  "kernelspec": {
   "display_name": "Python (flight_radar)",
   "language": "python",
   "name": "flight_radar"
  },
  "language_info": {
   "codemirror_mode": {
    "name": "ipython",
    "version": 3
   },
   "file_extension": ".py",
   "mimetype": "text/x-python",
   "name": "python",
   "nbconvert_exporter": "python",
   "pygments_lexer": "ipython3",
   "version": "3.7.7"
  }
 },
 "nbformat": 4,
 "nbformat_minor": 4
}
